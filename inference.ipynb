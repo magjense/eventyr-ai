{
 "cells": [
  {
   "cell_type": "code",
   "execution_count": null,
   "id": "5d349f5c",
   "metadata": {},
   "outputs": [],
   "source": [
    "!pip install transformers\n",
    "!pip install torch"
   ]
  },
  {
   "cell_type": "code",
   "execution_count": null,
   "id": "270e74ef-671d-45df-bdd7-f61322bbc990",
   "metadata": {
    "execution": {
     "iopub.execute_input": "2023-02-16T14:52:08.475108Z",
     "iopub.status.busy": "2023-02-16T14:52:08.474280Z",
     "iopub.status.idle": "2023-02-16T14:52:15.748513Z",
     "shell.execute_reply": "2023-02-16T14:52:15.747626Z",
     "shell.execute_reply.started": "2023-02-16T14:52:08.475081Z"
    }
   },
   "outputs": [],
   "source": [
    "from transformers import AutoTokenizer, TextDataset, DataCollatorForLanguageModeling\n",
    "from transformers import Trainer, TrainingArguments, AutoModelForCausalLM\n",
    "\n",
    "model_name = \"model/\" # replace with your model\n",
    "tokenizer = AutoTokenizer.from_pretrained('flax-community/norsk-gpt-wiki')\n",
    "model = AutoModelForCausalLM.from_pretrained(model_name)"
   ]
  },
  {
   "cell_type": "code",
   "execution_count": null,
   "id": "74a43354-10a5-420e-a6ff-d6685b2c368d",
   "metadata": {
    "execution": {
     "iopub.execute_input": "2023-02-16T14:52:21.589578Z",
     "iopub.status.busy": "2023-02-16T14:52:21.589269Z",
     "iopub.status.idle": "2023-02-16T14:52:21.594495Z",
     "shell.execute_reply": "2023-02-16T14:52:21.593779Z",
     "shell.execute_reply.started": "2023-02-16T14:52:21.589556Z"
    }
   },
   "outputs": [],
   "source": [
    "def generate(text):\n",
    "    input_ids = tokenizer.encode(text, return_tensors='pt') \n",
    "    tensor_length = input_ids.size()[1] + 10\n",
    "    output = model.generate(\n",
    "        input_ids, \n",
    "        max_length = tensor_length, \n",
    "        num_beams = 2,\n",
    "        no_repeat_ngram_size = 2,\n",
    "        early_stopping = True,\n",
    "        pad_token_id=tokenizer.eos_token_id) \n",
    "    return (tokenizer.decode(output[0], skip_special_tokens=True )), tensor_length\n"
   ]
  },
  {
   "cell_type": "code",
   "execution_count": null,
   "id": "bc11e6fb-e380-479d-b305-769d20caa304",
   "metadata": {
    "execution": {
     "iopub.execute_input": "2023-02-16T14:54:31.854083Z",
     "iopub.status.busy": "2023-02-16T14:54:31.853473Z"
    },
    "tags": []
   },
   "outputs": [],
   "source": [
    "text = 'Det var en gang en'\n",
    "word = ''\n",
    "tensor_length = 0\n",
    "while word != 'end':\n",
    "    print(text)\n",
    "    word = input()\n",
    "    text, tensor_length = generate(f\"{text} {word}\")"
   ]
  }
 ],
 "metadata": {
  "kernelspec": {
   "display_name": "eventyr",
   "language": "python",
   "name": "python3"
  },
  "language_info": {
   "codemirror_mode": {
    "name": "ipython",
    "version": 3
   },
   "file_extension": ".py",
   "mimetype": "text/x-python",
   "name": "python",
   "nbconvert_exporter": "python",
   "pygments_lexer": "ipython3",
   "version": "3.10.9"
  },
  "vscode": {
   "interpreter": {
    "hash": "309212cfb2d1f9c7c552c6c44acfd7ae4869399c140b1bf3010819b105e87330"
   }
  }
 },
 "nbformat": 4,
 "nbformat_minor": 5
}
