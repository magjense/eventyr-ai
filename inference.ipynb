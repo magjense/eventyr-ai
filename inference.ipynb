{
 "cells": [
  {
   "cell_type": "code",
   "execution_count": 6,
   "id": "5d349f5c",
   "metadata": {},
   "outputs": [
    {
     "name": "stdout",
     "output_type": "stream",
     "text": [
      "Requirement already satisfied: transformers in /Users/magnus.jensen@vg.no/opt/anaconda3/envs/eventyr/lib/python3.10/site-packages (4.26.1)\n",
      "Requirement already satisfied: packaging>=20.0 in /Users/magnus.jensen@vg.no/opt/anaconda3/envs/eventyr/lib/python3.10/site-packages (from transformers) (23.0)\n",
      "Requirement already satisfied: requests in /Users/magnus.jensen@vg.no/opt/anaconda3/envs/eventyr/lib/python3.10/site-packages (from transformers) (2.28.2)\n",
      "Requirement already satisfied: filelock in /Users/magnus.jensen@vg.no/opt/anaconda3/envs/eventyr/lib/python3.10/site-packages (from transformers) (3.9.0)\n",
      "Requirement already satisfied: numpy>=1.17 in /Users/magnus.jensen@vg.no/opt/anaconda3/envs/eventyr/lib/python3.10/site-packages (from transformers) (1.24.2)\n",
      "Requirement already satisfied: pyyaml>=5.1 in /Users/magnus.jensen@vg.no/opt/anaconda3/envs/eventyr/lib/python3.10/site-packages (from transformers) (6.0)\n",
      "Requirement already satisfied: huggingface-hub<1.0,>=0.11.0 in /Users/magnus.jensen@vg.no/opt/anaconda3/envs/eventyr/lib/python3.10/site-packages (from transformers) (0.12.1)\n",
      "Requirement already satisfied: tqdm>=4.27 in /Users/magnus.jensen@vg.no/opt/anaconda3/envs/eventyr/lib/python3.10/site-packages (from transformers) (4.64.1)\n",
      "Requirement already satisfied: tokenizers!=0.11.3,<0.14,>=0.11.1 in /Users/magnus.jensen@vg.no/opt/anaconda3/envs/eventyr/lib/python3.10/site-packages (from transformers) (0.13.2)\n",
      "Requirement already satisfied: regex!=2019.12.17 in /Users/magnus.jensen@vg.no/opt/anaconda3/envs/eventyr/lib/python3.10/site-packages (from transformers) (2022.10.31)\n",
      "Requirement already satisfied: typing-extensions>=3.7.4.3 in /Users/magnus.jensen@vg.no/opt/anaconda3/envs/eventyr/lib/python3.10/site-packages (from huggingface-hub<1.0,>=0.11.0->transformers) (4.4.0)\n",
      "Requirement already satisfied: charset-normalizer<4,>=2 in /Users/magnus.jensen@vg.no/opt/anaconda3/envs/eventyr/lib/python3.10/site-packages (from requests->transformers) (3.0.1)\n",
      "Requirement already satisfied: idna<4,>=2.5 in /Users/magnus.jensen@vg.no/opt/anaconda3/envs/eventyr/lib/python3.10/site-packages (from requests->transformers) (3.4)\n",
      "Requirement already satisfied: urllib3<1.27,>=1.21.1 in /Users/magnus.jensen@vg.no/opt/anaconda3/envs/eventyr/lib/python3.10/site-packages (from requests->transformers) (1.26.14)\n",
      "Requirement already satisfied: certifi>=2017.4.17 in /Users/magnus.jensen@vg.no/opt/anaconda3/envs/eventyr/lib/python3.10/site-packages (from requests->transformers) (2022.12.7)\n",
      "Requirement already satisfied: torch in /Users/magnus.jensen@vg.no/opt/anaconda3/envs/eventyr/lib/python3.10/site-packages (1.13.1)\n",
      "Requirement already satisfied: typing-extensions in /Users/magnus.jensen@vg.no/opt/anaconda3/envs/eventyr/lib/python3.10/site-packages (from torch) (4.4.0)\n"
     ]
    }
   ],
   "source": [
    "!pip install transformers\n",
    "!pip install torch"
   ]
  },
  {
   "cell_type": "code",
   "execution_count": null,
   "id": "270e74ef-671d-45df-bdd7-f61322bbc990",
   "metadata": {
    "execution": {
     "iopub.execute_input": "2023-02-16T14:52:08.475108Z",
     "iopub.status.busy": "2023-02-16T14:52:08.474280Z",
     "iopub.status.idle": "2023-02-16T14:52:15.748513Z",
     "shell.execute_reply": "2023-02-16T14:52:15.747626Z",
     "shell.execute_reply.started": "2023-02-16T14:52:08.475081Z"
    }
   },
   "outputs": [],
   "source": [
    "from transformers import AutoTokenizer, TextDataset, DataCollatorForLanguageModeling\n",
    "from transformers import Trainer, TrainingArguments, AutoModelForCausalLM\n",
    "\n",
    "model_name = \"/notebooks/model/\" # replace with your model\n",
    "tokenizer = AutoTokenizer.from_pretrained('flax-community/norsk-gpt-wiki')\n",
    "model = AutoModelForCausalLM.from_pretrained(model_name)"
   ]
  },
  {
   "cell_type": "code",
   "execution_count": null,
   "id": "74a43354-10a5-420e-a6ff-d6685b2c368d",
   "metadata": {
    "execution": {
     "iopub.execute_input": "2023-02-16T14:52:21.589578Z",
     "iopub.status.busy": "2023-02-16T14:52:21.589269Z",
     "iopub.status.idle": "2023-02-16T14:52:21.594495Z",
     "shell.execute_reply": "2023-02-16T14:52:21.593779Z",
     "shell.execute_reply.started": "2023-02-16T14:52:21.589556Z"
    }
   },
   "outputs": [],
   "source": [
    "def generate(text):\n",
    "    input_ids = tokenizer.encode(text, return_tensors='pt') \n",
    "    tensor_length = input_ids.size()[1]\n",
    "    output = model.generate(\n",
    "        input_ids, \n",
    "        max_length = tensor_length + 10, \n",
    "        num_beams = 2,\n",
    "        no_repeat_ngram_size = 2,\n",
    "        early_stopping = True,\n",
    "        pad_token_id=tokenizer.eos_token_id) \n",
    "    return (tokenizer.decode(output[0], skip_special_tokens=True )) \n"
   ]
  },
  {
   "cell_type": "code",
   "execution_count": null,
   "id": "bc11e6fb-e380-479d-b305-769d20caa304",
   "metadata": {
    "execution": {
     "iopub.execute_input": "2023-02-16T14:54:31.854083Z",
     "iopub.status.busy": "2023-02-16T14:54:31.853473Z"
    },
    "tags": []
   },
   "outputs": [],
   "source": [
    "text = 'Det var en gang en'\n",
    "word = ''\n",
    "while word != 'end':\n",
    "    print(text)\n",
    "    word = input()\n",
    "    text = generate(f\"{text} {word}\")"
   ]
  }
 ],
 "metadata": {
  "kernelspec": {
   "display_name": "eventyr",
   "language": "python",
   "name": "python3"
  },
  "language_info": {
   "codemirror_mode": {
    "name": "ipython",
    "version": 3
   },
   "file_extension": ".py",
   "mimetype": "text/x-python",
   "name": "python",
   "nbconvert_exporter": "python",
   "pygments_lexer": "ipython3",
   "version": "3.10.9"
  },
  "vscode": {
   "interpreter": {
    "hash": "309212cfb2d1f9c7c552c6c44acfd7ae4869399c140b1bf3010819b105e87330"
   }
  }
 },
 "nbformat": 4,
 "nbformat_minor": 5
}
