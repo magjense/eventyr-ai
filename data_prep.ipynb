{
 "cells": [
  {
   "cell_type": "code",
   "execution_count": null,
   "id": "5500ffd4",
   "metadata": {},
   "outputs": [],
   "source": [
    "!pip install requests\n",
    "!pip install beautifulsoup4"
   ]
  },
  {
   "cell_type": "code",
   "execution_count": 2,
   "id": "30d7bb5a-da78-41fc-905f-375b24548671",
   "metadata": {
    "execution": {
     "iopub.execute_input": "2023-02-14T21:40:07.379652Z",
     "iopub.status.busy": "2023-02-14T21:40:07.378689Z",
     "iopub.status.idle": "2023-02-14T21:40:07.533757Z",
     "shell.execute_reply": "2023-02-14T21:40:07.533034Z",
     "shell.execute_reply.started": "2023-02-14T21:40:07.379572Z"
    }
   },
   "outputs": [],
   "source": [
    "import requests\n",
    "from bs4 import BeautifulSoup\n",
    "import json"
   ]
  },
  {
   "cell_type": "code",
   "execution_count": 3,
   "id": "64c87a8f-7395-42f2-8f0e-b56c31e69347",
   "metadata": {
    "execution": {
     "iopub.execute_input": "2023-02-14T21:40:09.649453Z",
     "iopub.status.busy": "2023-02-14T21:40:09.648395Z",
     "iopub.status.idle": "2023-02-14T21:40:09.971098Z",
     "shell.execute_reply": "2023-02-14T21:40:09.970350Z",
     "shell.execute_reply.started": "2023-02-14T21:40:09.649413Z"
    }
   },
   "outputs": [],
   "source": [
    "base_url = \"https://folkeeventyr.no\"\n",
    "resp = requests.get(base_url).text\n",
    "soup = BeautifulSoup(resp, \"html.parser\")"
   ]
  },
  {
   "cell_type": "code",
   "execution_count": 5,
   "id": "61298c8d",
   "metadata": {},
   "outputs": [
    {
     "data": {
      "text/plain": [
       "['/askeladden_hjelperne',\n",
       " '/askeladden_stjal',\n",
       " '/folgesvennen',\n",
       " '/gjete_kongens_harer',\n",
       " '/herreper',\n",
       " '/jomfruen_glassberget',\n",
       " '/kari_trestakk',\n",
       " '/kullbrenneren',\n",
       " '/kvitebjoern_kong_valemon',\n",
       " '/mumle_gaasegg',\n",
       " '/per_paal_espen_askeladd',\n",
       " '/presten_og_klokkeren',\n",
       " '/tommeliten',\n",
       " '/tre_kongsdoetre_berget_blaa',\n",
       " '/tyrihans',\n",
       " '/aaker_sameie',\n",
       " '/bamse_brakar',\n",
       " '/haren_hadde_vaert_gift',\n",
       " '/mikkel_vil_smake_hestekjoett',\n",
       " '/reveenka',\n",
       " '/reven_gjeter',\n",
       " '/reven_snyter_bjoernen',\n",
       " '/slipp_granrot',\n",
       " '/vedder_om_flesk',\n",
       " '/gjete_kongens_harer',\n",
       " '/kari_trestakk',\n",
       " '/kvitebjoern_kong_valemon',\n",
       " '/oestenfor_sol',\n",
       " '/prinsessen_maalbinde',\n",
       " '/soria_moria',\n",
       " '/tommeliten',\n",
       " '/tre_kongsdoetre_berget_blaa',\n",
       " '/tyrihans',\n",
       " '/askeladden_kappaat',\n",
       " '/askeladden_stjal',\n",
       " '/bukkene_bruse',\n",
       " '/folgesvennen',\n",
       " '/herreper',\n",
       " '/kari_trestakk',\n",
       " '/soria_moria',\n",
       " '/tre_kongsdoetre_berget_blaa',\n",
       " '/askeladden_hjelperne',\n",
       " '/askeladden_kappaat',\n",
       " '/askeladden_stjal',\n",
       " '/gjete_kongens_harer',\n",
       " '/jomfruen_glassberget',\n",
       " '/per_paal_espen_askeladd',\n",
       " '/prinsessen_maalbinde',\n",
       " '/dumme_menn',\n",
       " '/god_dag_mann_oekseskaft',\n",
       " '/gutten_med_oldunken',\n",
       " '/herremannsbruden',\n",
       " '/kjerringa_mot_stroemmen',\n",
       " '/syvende_far',\n",
       " '/aaker_sameie',\n",
       " '/bamse_brakar',\n",
       " '/bjoernen_stubbrumpet',\n",
       " '/reven_snyter_bjoernen',\n",
       " '/slipp_granrot',\n",
       " '/vedder_om_flesk',\n",
       " '/dumme_menn',\n",
       " '/haarslaa_hjem_gaa',\n",
       " '/kjerringa_mot_stroemmen',\n",
       " '/mannen_skulle_stelle_hjemme',\n",
       " '/mumle_gaasegg',\n",
       " '/smoerbukk',\n",
       " '/bamse_brakar',\n",
       " '/herremannsbruden',\n",
       " '/kullbrenneren',\n",
       " '/presten_og_klokkeren',\n",
       " '/grisen_og_levemaaten',\n",
       " '/mannen_skulle_stelle_hjemme',\n",
       " '/pannekaken',\n",
       " '/gutten_med_oldunken',\n",
       " '/mumle_gaasegg',\n",
       " '/god_dag_mann_oekseskaft',\n",
       " '/veslefrikk']"
      ]
     },
     "execution_count": 5,
     "metadata": {},
     "output_type": "execute_result"
    }
   ],
   "source": [
    "urls = []\n",
    "categories = soup.find_all('div', class_ = 'category')\n",
    "\n",
    "for category in categories:\n",
    "    links = category.find_all('a')\n",
    "    for link in links:\n",
    "        if len(link.find_all('span')) > 0:\n",
    "            urls.append(link['href'])\n",
    "urls"
   ]
  },
  {
   "cell_type": "code",
   "execution_count": 6,
   "id": "747eb1ab",
   "metadata": {},
   "outputs": [
    {
     "name": "stdout",
     "output_type": "stream",
     "text": [
      "Askeladden og de gode hjelperne\n",
      "Askeladden som stjal sÃ¸lvendene til trollet\n",
      "FÃ¸lgesvennen\n",
      "Gjete kongens harer\n",
      "Herreper\n",
      "Jomfruen pÃ¥ glassberget\n",
      "Kari Trestakk\n",
      "Kullbrenneren\n",
      "KvitebjÃ¸rn kong Valemon\n",
      "Mumle GÃ¥segg\n",
      "Per, PÃ¥l og Espen Askeladd\n",
      "Presten og klokkeren\n",
      "Tommeliten\n",
      "De tre kongsdÃ¸tre i berget det blÃ¥\n",
      "Tyrihans som fikk kongsdatteren til Ã¥ le\n",
      "De skulle ha Ã¥ker i sameie\n",
      "Bamse Brakar\n",
      "Haren som hadde vÃ¦rt gift\n",
      "Mikkel vil smake hestekjÃ¸tt\n",
      "Reve-enka\n",
      "Reven som gjeter\n",
      "Reven snyter bjÃ¸rnen for julekosten\n",
      "Slipp granrot og ta i revefot\n",
      "De vedder om flesk og humlebol\n",
      "Gjete kongens harer\n",
      "Kari Trestakk\n",
      "KvitebjÃ¸rn kong Valemon\n",
      "Ãstenfor sol og vestenfor mÃ¥ne\n",
      "Prinsessen som ingen kunne mÃ¥lbinde\n",
      "Soria Moria slott\n",
      "Tommeliten\n",
      "De tre kongsdÃ¸tre i berget det blÃ¥\n",
      "Tyrihans som fikk kongsdatteren til Ã¥ le\n",
      "Askeladden som kappÃ¥t med trollet\n",
      "Askeladden som stjal sÃ¸lvendene til trollet\n",
      "De tre bukkene Bruse\n",
      "FÃ¸lgesvennen\n",
      "Herreper\n",
      "Kari Trestakk\n",
      "Soria Moria slott\n",
      "De tre kongsdÃ¸tre i berget det blÃ¥\n",
      "Askeladden og de gode hjelperne\n",
      "Askeladden som kappÃ¥t med trollet\n",
      "Askeladden som stjal sÃ¸lvendene til trollet\n",
      "Gjete kongens harer\n",
      "Jomfruen pÃ¥ glassberget\n",
      "Per, PÃ¥l og Espen Askeladd\n",
      "Prinsessen som ingen kunne mÃ¥lbinde\n",
      "Dumme menn og troll til kjerringer\n",
      "God dag, mann! - Ãkseskaft\n",
      "Gutten med Ã¸ldunken\n",
      "Herremannsbruden\n",
      "Kjerringa mot strÃ¸mmen\n",
      "Den syvende far i huset\n",
      "De skulle ha Ã¥ker i sameie\n",
      "Bamse Brakar\n",
      "Hvorfor bjÃ¸rnen er stubbrumpet\n",
      "Reven snyter bjÃ¸rnen for julekosten\n",
      "Slipp granrot og ta i revefot\n",
      "De vedder om flesk og humlebol\n",
      "Dumme menn og troll til kjerringer\n",
      "HÃ¥rslÃ¥, som aldri ville hjem gÃ¥\n",
      "Kjerringa mot strÃ¸mmen\n",
      "Mannen som skulle stelle hjemme\n",
      "Mumle GÃ¥segg\n",
      "SmÃ¸rbukk\n",
      "Bamse Brakar\n",
      "Herremannsbruden\n",
      "Kullbrenneren\n",
      "Presten og klokkeren\n",
      "Grisen og levemÃ¥ten hans\n",
      "Mannen som skulle stelle hjemme\n",
      "Pannekaken\n",
      "Gutten med Ã¸ldunken\n",
      "Mumle GÃ¥segg\n",
      "God dag, mann! - Ãkseskaft\n",
      "Veslefrikk med fela\n"
     ]
    },
    {
     "data": {
      "text/plain": [
       "{'title': 'Askeladden som stjal sÃ¸lvendene til trollet',\n",
       " 'text': 'Det var en gang en fattigmann som hadde tre sønner. Da han døde, skulle\\nde to eldste sønnene dra ut i verden og friste lykken; men den yngste\\nville de slett ikke ha med seg. «Du da!» sa de, «du duger ikke til annet\\nenn å sitte og grave i oska du.». «Så får jeg gå alene, jeg», sa Askeladden.. Det to gikk, og kom til kongsgården; der fikk de tjeneste, den ene hos\\nstallmesteren og den andre hos hagemesteren. Askeladden gikk også avsted\\nog tok med seg et stort knatraug, som var det eneste de hadde etter\\nforeldrene, men som de andre to ikke brydde seg noe om; det var tungt\\nåbære, men han ville da ikke la det stå igjen. Da han hadde gått en\\nstund, kom han til kongsgården han også, og ba om tjeneste. De svarte at\\nde hadde ikke bruk for ham; men han ba så inderlig vakkert, og så skulle\\nhan da til sist få lov å være i kjøkkenet og bære ved og vann til\\nkokkejenta. Han var flittig og flink, og det vare ikke lenge før alle\\nholdt av ham; men de andre to var late, og derfor fikk de hugg og liten\\nlønn, og så ble de avindsyke på Askeladden, da de så det gikk likere med\\nham.. Midt imot kongsgården, på den andre siden av et stort vann, bodde et\\ntroll, og det hadde syv sølvender, som lå og svømte ute på vannet, så de\\nkunne se dem fra kongsgården. Dem hadde kongen ofte ønsket seg, og så sa\\nde to brødrene til stallmesteren: «Dersom bror vår ville, har han sagt\\nseg god for å skaffe kongen de syv sølvendene.» En kan nok vite det ikke\\nvar lenge før stallmesteren sa det til kongen. Kongen ropte da\\nAskeladden inn til seg og sa: «Brødrene dine forteller at du kan skaffe\\nmeg sølvendene, og nå skal du gjøre det.». «Det har jeg hverken tenkt eller sagt», sa gutten.. Men kongen ble ved sitt: «Du har sagt det, og du skal», sa han.. «Ja, ja», sa gutten, «når det ikke kan være annet, så la meg få et\\nkvartel rug og et kvartel hvete, så får jeg vel prøve.» Det fikk han og\\nla i kna-trauget, han hadde tatt med hjemmefra, og rodde over med det.\\nDa han kom på den andre siden, ga han seg til å gå på strandkanten og\\nstrø og strø, og til slutt fikk han lokket endene ut i trauget, og rodde\\nså tilbake det forteste han kunne.. Da han var midt utpå, kom trollet og fikk se ham.. «Har du reist av med de syv sølvendene mine du?» ropte det.. «Ja-a!» sa gutten.. «Kommer du igjen?» spurte trollet.. «Kan vel hende», sa gutten.. Da han kom tilbake til kongen med de syv sølvendene, ble han enda bedre\\nlikt i kongsgården, og selve kongen sa det var godt gjort; men brødrene\\nhans ble enda mer harme og misunnelige på ham; og så fant de på å si til\\nstallmesteren, at nå hadde han sagt seg god for å skaffe kongen\\nsengeteppet til trollet, med en sølvrute og en gullrute og en sølvrute\\nog en gullrute i, når han bare ville, og stallmesteren var ikke sen\\ndenne gangen heller med å fortelle det til kongen. Kongen sa da til\\ngutten at brødrene hans hadde fortalt han sa seg god for å skaffe\\ntrollets sengeteppe med sølv- og gullrutene i, og nå skulle han gjøre\\ndet, eller også skulle han miste livet. Askeladden svarte at det hadde\\nhan hverken tenkt eller sagt; men det hjalp ikke, og så ba han om tre\\ndager å områ seg i. Da de var omme, rodde han over i kna-trauget, og\\ngikk fram og tilbake og lurte. Endelig så han at de i berget hengte ut\\nsengeteppet for å lufte det, og da de var kommet vel inn i fjellet\\nigjen, knep Askeladden det, og rodde tilbake det forteste han kunne.. Da han var midt utpå, kom trollet ut og fikk se ham.. «Er det du som har tatt de syv sølvendene mine?» ropte trollet.. «Ja-a!» sa gutten.. «Har du nå tatt sengeteppet mitt, med en sølvrute og en gullrute og en\\nsølvrute og en gullrute i også?». «Ja-a!» sa gutten.. «Kommer du igjen oftere du?». «Kan nok hende det», sa gutten.. Da han kom tilbake med gull- og sølvteppet, holdt alle enda mer av ham\\nenn før, og han ble tjener hos kongen selv. For det ble de andre to enda\\nmer harme, og for å hevne seg fant de på å si til stallmesteren: «Nå har\\nbror vår sagt seg god for å skaffe kongen den gullharpen som trollet\\nhar, og som er slik at alle blir glade når de bare får høre den, om de\\ner aldri så sørgmodige.». Ja, stallmesteren han fortalte det straks til kongen igjen, og han sa\\ntil gutten: «Har du sagt det, så skal du gjøre det. kan du, så skal du\\nfå prinsessen og halve riket; men kan du ikke, skal du miste livet.». «Jeg har hverken tenkt eller sagt det», svarte Askeladden; «men det er\\nvel ingen annen råd, jeg får vel friste. Men seks dager vil jeg ha å\\nområ meg i.» Ja det skulle han få; men da de var omme, måtte han i\\nveien. Han tok en spiker, en bjørkepinne og en lys-stubb i lommen og\\nrodde over, og gikk utenfor der fram og tilbake og smatt. Om en stund\\nkom trollet ut og fikk se ham.. «Er det du som har tatt de syv sølvendene mine?» ropte trollet.. «Ja-a!» sa gutten.. «Det er du som har tatt sengeteppet mitt med sølv- og gullrutene også\\nda?» spurte trollet.. «Ja-a!» sa gutten.. Så grep trollet ham og tok ham med seg inn i berget. «Nå, datter mi», sa\\nhan, «nå har jeg fått tak i ham som har tatt sølvendene mine og\\nsengeteppet mitt med sølv- og gullrutene i; sett ham nå på gjøstien, så\\nskal vi slakte ham og be til oss skyldfolkene våre.» Det var hun straks\\nvillig til og satte ham på gjøstien, og der sto han i åtte dager og fikk\\nalt det beste han ville ønske seg både av mat og drikke, og det så mye\\nhan ville ha.. Da de åtte dagene var omme, sa trollet til datteren at hun fikk gå ned\\nog skjære ham i veslefingeren, så de kunne få se om han var feit.. Hun ned til gjøstien. «Kom med veslefingeren din», sa hun; men\\nAskeladden stakk ut spikeren, og den skar hun i.. «Å nei, han er hard som jern ennå», sa trolldatteren, da hun kom til far\\nsin igjen: «ennå er han ikke takendes.». Åtte dager etter gikk det like ens, bare at Askeladden nå satte fram\\nbjørkepinnen. «Litt likere er han», sa hun, da hun kom inn igjen til\\ntrollet, «men ennå ble han hard å tygge som tre.». Men om åtte dager sa trollet igjen at datteren fikk gå ned og se om han\\nikke nå var feit. «Kom med veslefingeren din!» sa trolldatteren til han\\ni gjøstien; denne gangen stakk Askeladden fram lysstubben.. «Nå er han så tålelig», sa hun.. «Ja så!» sa trollet, «så reiser jeg bort da, og ber til gjestebuds;\\nimens får du slakte ham og steike det halve og koke det halve.». Da trollet var vel av gårde, ga datteren seg til å bryne en stor lang\\nkniv.. «Skal du ha den og slakte meg med?» spurte gutten.. «Ja du!» sa trolldatteren.. «Men den er ikke kvass», sa gutten; «jeg kommer nok til å bryne den jeg,\\nså du kan få livet av meg mer lettvint.». Ja, hun lot ham få kniven, og han til å slipe og bryne.. «La meg prøve den på hårfletta di», sa gutten; «jeg tror den skal være\\nbra nå.» Det fikk han lov til; men i det samme han grep i hårfletta,\\nbøyde han hodet bakover og skar det av trolldatteren, og kokte så det\\nhalve og stekte det halve og satte det på bordet. Så tok han på seg\\nklærne hennes og satte seg borti kroken.. Da trollet kom hjem med gjestebudsfolkene, ba han datteren - for han\\ntrodde det var henne, som satt der, han - at hun også skulle komme og få\\nseg mat.. «Nei», svarte gutten, «jeg vil ikke ha mat; jeg er så stur og lei av\\nmeg.». «Å, du vet vel råd for det», sa trollet, «ta gullharpen og spill på!». «Ja, hvor er nå den henne da?» spurte Askeladden igjen.. «Du vet vel det du - du har jo sist brukt den; den henger jo der over\\ndøra!» sa trollet.. Gutten lot seg ikke si to ganger; han tok den og gikk ut og inn og\\nspilte; men rett som det var, så skjøv han knatrauget ut og rodde avsted\\nså det fosset om trauget.. Om en stund syntes trollet at datteren ble for lenge ute, og gikk etter\\nfor å se hva som feilte henne; så fikk han øye på gutten i trauget\\nlangt, langt ute på vannet.. «Er det du som har tatt de syv sølvendene mine?» ropte trollet.. «Ja», sa Askeladden.. «Det er du som har tatt teppet mitt, med en sølvrute og en gullrute i,\\nogså da?». «Ja», sa Askeladden.. «Har du nå tatt gullharpen min med?» skrek trollet.. «Ja, jeg har nok det», sa gutten.. «Har jeg ikke ett deg opp likevel da?». «Nei, det var datter di du åt», svarte gutten.. Da trollet hørte det, ble han så harm at han sprakk; og så rodde\\nAskeladden tilbake og tok med seg en hel haug gull og sølv, så mye som\\ntrauget kunne bære. Da han kom til kongsgården med gullharpen, fikk han\\nkongsdatteren og halve riket, slik som kongen hadde lovt ham. Men\\nbrødrene sine gjorde han vel imot, for han trodde de bare hadde villet\\nhans beste med det de hadde sagt.. Snipp, snapp, snute, sÃ¥ var eventyret ute.'}"
      ]
     },
     "execution_count": 6,
     "metadata": {},
     "output_type": "execute_result"
    }
   ],
   "source": [
    "eventyr = []\n",
    "\n",
    "for url in urls:\n",
    "    resp = requests.get(base_url+url).text\n",
    "    soup = BeautifulSoup(resp, \"html.parser\")\n",
    "    title = soup.find('h1').getText()\n",
    "    print(title)\n",
    "\n",
    "    body = soup.find('div', class_='tekst')\n",
    "    parags = body.find_all('p')\n",
    "    text = [parag.getText() for parag in parags]\n",
    "    joined = '. '.join(text)\n",
    "    eventyr.append({'title' : title, 'text': joined})\n",
    "\n",
    "eventyr[1]\n",
    "    "
   ]
  },
  {
   "cell_type": "code",
   "execution_count": null,
   "id": "ff165779-7901-4fab-a120-ff3902d04b13",
   "metadata": {
    "execution": {
     "iopub.execute_input": "2023-02-14T21:24:14.224599Z",
     "iopub.status.busy": "2023-02-14T21:24:14.224224Z",
     "iopub.status.idle": "2023-02-14T21:24:14.231327Z",
     "shell.execute_reply": "2023-02-14T21:24:14.230205Z",
     "shell.execute_reply.started": "2023-02-14T21:24:14.224574Z"
    }
   },
   "outputs": [],
   "source": []
  },
  {
   "cell_type": "code",
   "execution_count": 42,
   "id": "4824938f-db71-4927-a9f8-7c56ac481c0a",
   "metadata": {
    "execution": {
     "iopub.execute_input": "2023-02-14T21:28:14.314441Z",
     "iopub.status.busy": "2023-02-14T21:28:14.313900Z",
     "iopub.status.idle": "2023-02-14T21:28:14.554314Z",
     "shell.execute_reply": "2023-02-14T21:28:14.552528Z",
     "shell.execute_reply.started": "2023-02-14T21:28:14.314407Z"
    }
   },
   "outputs": [],
   "source": [
    "with open(f\"eventyr.txt\", \"w\") as text_file:\n",
    "        text_file.write(json.dumps(eventyr))\n",
    "    "
   ]
  },
  {
   "cell_type": "code",
   "execution_count": 9,
   "id": "c6d4c4ee",
   "metadata": {},
   "outputs": [],
   "source": [
    "eventyr_train = '<separator>'.join([item['text'] for item in eventyr])\n",
    "with open(f\"eventyr_train.txt\", \"w\") as text_file:\n",
    "        text_file.write(json.dumps(eventyr_train))"
   ]
  },
  {
   "cell_type": "code",
   "execution_count": null,
   "id": "4f623fb2",
   "metadata": {},
   "outputs": [],
   "source": []
  }
 ],
 "metadata": {
  "kernelspec": {
   "display_name": "eventyr",
   "language": "python",
   "name": "python3"
  },
  "language_info": {
   "codemirror_mode": {
    "name": "ipython",
    "version": 3
   },
   "file_extension": ".py",
   "mimetype": "text/x-python",
   "name": "python",
   "nbconvert_exporter": "python",
   "pygments_lexer": "ipython3",
   "version": "3.10.9"
  },
  "vscode": {
   "interpreter": {
    "hash": "309212cfb2d1f9c7c552c6c44acfd7ae4869399c140b1bf3010819b105e87330"
   }
  }
 },
 "nbformat": 4,
 "nbformat_minor": 5
}
