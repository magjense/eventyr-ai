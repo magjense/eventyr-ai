{
 "cells": [
  {
   "cell_type": "code",
   "execution_count": 1,
   "metadata": {},
   "outputs": [],
   "source": [
    "from gradient import NotebooksClient, SecretsClient\n",
    "import os\n",
    "\n",
    "api_key = os.getenv(\"GRADIENT_API_KEY\") \n",
    "project = \"phbsmm44gnv\""
   ]
  },
  {
   "cell_type": "code",
   "execution_count": 18,
   "metadata": {},
   "outputs": [
    {
     "name": "stdout",
     "output_type": "stream",
     "text": [
      "n7pn1jrg7x\n"
     ]
    }
   ],
   "source": [
    "notebooks_client = NotebooksClient(api_key)\n",
    "\n",
    "print(notebooks_client.create(\n",
    "    machine_type='C4',\n",
    "    container='paperspace/nb-pytorch:22.02-py3',\n",
    "    project_id=project,\n",
    "    name='Eventyr',\n",
    "    workspace='https://github.com/magjense/eventyr-ai',\n",
    "    workspace_username='magjense',\n",
    "    workspace_password=os.getenv('GITHUB_TOKEN'),\n",
    "    shutdown_timeout=3,\n",
    "    environment=\n",
    "    {\n",
    "        'AWS_ACCESS_KEY_ID' : os.getenv('AWS_ACCESS_KEY_ID'),\n",
    "        'AWS_SECRET_ACCESS_KEY' : os.getenv('AWS_SECRET_ACCESS_KEY'), \n",
    "        'AWS_DEFAULT_REGION' : os.getenv('AWS_DEFAULT_REGION'),  \n",
    "        'OPENAI_API_KEY': os.getenv('OPENAI_API_KEY')\n",
    "    }\n",
    "))"
   ]
  },
  {
   "cell_type": "code",
   "execution_count": 5,
   "metadata": {},
   "outputs": [],
   "source": [
    "secrets_client = SecretsClient(api_key)\n",
    "\n",
    "secrets_client.set(\n",
    "    entity='project',\n",
    "    entity_id=project,\n",
    "    name='AWS_ACCESS_KEY_ID',\n",
    "    value=os.getenv('AWS_ACCESS_KEY_ID')\n",
    ")\n",
    "\n",
    "secrets_client.set(\n",
    "    entity='project',\n",
    "    entity_id=project,\n",
    "    name='AWS_SECRET_ACCESS_KEY',\n",
    "    value=os.getenv('AWS_SECRET_ACCESS_KEY')\n",
    ")\n",
    "\n",
    "secrets_client.set(\n",
    "    entity='project',\n",
    "    entity_id=project,\n",
    "    name='AWS_DEFAULT_REGION',\n",
    "    value=os.getenv('AWS_DEFAULT_REGION')\n",
    ")\n",
    "\n",
    "secrets_client.set(\n",
    "    entity='project',\n",
    "    entity_id=project,\n",
    "    name='OPENAI_API_KEY',\n",
    "    value=os.getenv('OPENAI_API_KEY')\n",
    ")"
   ]
  },
  {
   "cell_type": "code",
   "execution_count": null,
   "metadata": {},
   "outputs": [],
   "source": []
  }
 ],
 "metadata": {
  "kernelspec": {
   "display_name": "base",
   "language": "python",
   "name": "python3"
  },
  "language_info": {
   "codemirror_mode": {
    "name": "ipython",
    "version": 3
   },
   "file_extension": ".py",
   "mimetype": "text/x-python",
   "name": "python",
   "nbconvert_exporter": "python",
   "pygments_lexer": "ipython3",
   "version": "3.9.13"
  },
  "orig_nbformat": 4,
  "vscode": {
   "interpreter": {
    "hash": "4c4bc148b3ddb7e374ad5f1b29f8244056fb8e83e90502764baeb172612ff88e"
   }
  }
 },
 "nbformat": 4,
 "nbformat_minor": 2
}
